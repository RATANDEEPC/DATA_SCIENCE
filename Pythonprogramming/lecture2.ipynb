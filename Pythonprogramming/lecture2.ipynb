{
 "cells": [
  {
   "cell_type": "code",
   "execution_count": 2,
   "id": "17849d9d",
   "metadata": {},
   "outputs": [],
   "source": [
    "str ='HELLO WORLD, WELCOME TO WORLD OF PYTHON PROGRAMMING'"
   ]
  },
  {
   "cell_type": "code",
   "execution_count": 6,
   "id": "bb91046d",
   "metadata": {},
   "outputs": [
    {
     "name": "stdout",
     "output_type": "stream",
     "text": [
      " \n",
      "R\n",
      "L\n"
     ]
    }
   ],
   "source": [
    "# concept of indexing\n",
    "\n",
    "print(str[5])\n",
    "print(str[8])\n",
    "print(str[15])"
   ]
  },
  {
   "cell_type": "code",
   "execution_count": 17,
   "id": "73ae778e",
   "metadata": {},
   "outputs": [
    {
     "name": "stdout",
     "output_type": "stream",
     "text": [
      "HELL\n",
      "AM\n",
      "HLOWRD ECM OWRDO YHNPORMIG\n",
      "HE\n",
      "LLO WORLD, WELCOME TO WORLD OF PYTHON PROGRAMMING\n",
      "GNIMMARGORP NOHTYP FO DLROW OT EMOCLEW ,DLROW OLLEH\n"
     ]
    }
   ],
   "source": [
    "# concept of slicing\n",
    "'''\n",
    "str[start:stop:step]\n",
    "'''\n",
    "print(str[:4])\n",
    "print(str[-6:-4])\n",
    "print(str[::2])\n",
    "print(str[:2:])\n",
    "print(str[2::])\n",
    "print(str[::-1])"
   ]
  },
  {
   "cell_type": "code",
   "execution_count": 18,
   "id": "3e916914",
   "metadata": {},
   "outputs": [
    {
     "name": "stdout",
     "output_type": "stream",
     "text": [
      "<class 'str'>\n"
     ]
    }
   ],
   "source": [
    "print(type(str))"
   ]
  },
  {
   "cell_type": "code",
   "execution_count": 32,
   "id": "6daddadf",
   "metadata": {},
   "outputs": [
    {
     "name": "stdout",
     "output_type": "stream",
     "text": [
      "HELLO WORLD\n",
      "hello world\n",
      "11\n"
     ]
    }
   ],
   "source": [
    "string = 'hello world'\n",
    "print(string.upper())\n",
    "print(string.lower())\n",
    "print(len(string))"
   ]
  },
  {
   "cell_type": "code",
   "execution_count": 31,
   "id": "75e18a8f",
   "metadata": {},
   "outputs": [
    {
     "name": "stdout",
     "output_type": "stream",
     "text": [
      "Idai ra o\n",
      "dai ra o\n",
      "\n",
      "dir n\n"
     ]
    }
   ],
   "source": [
    "s = 'India is great country'\n",
    "print(s[:-5:2])\n",
    "print(s[2:-5:2])\n",
    "print(s[3:-3:-8])\n",
    "print(s[2:-2:4])"
   ]
  }
 ],
 "metadata": {
  "kernelspec": {
   "display_name": "base",
   "language": "python",
   "name": "python3"
  },
  "language_info": {
   "codemirror_mode": {
    "name": "ipython",
    "version": 3
   },
   "file_extension": ".py",
   "mimetype": "text/x-python",
   "name": "python",
   "nbconvert_exporter": "python",
   "pygments_lexer": "ipython3",
   "version": "3.12.7"
  }
 },
 "nbformat": 4,
 "nbformat_minor": 5
}
