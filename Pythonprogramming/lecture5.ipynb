{
 "cells": [
  {
   "cell_type": "code",
   "execution_count": null,
   "id": "99f5aa34",
   "metadata": {},
   "outputs": [],
   "source": [
    "# Python Notes: String, List, and Tuple – Methods & Functions\n",
    "\n",
    "---\n",
    "\n",
    "## 📌 String in Python\n",
    "\n",
    "- Strings are **immutable** sequences of characters.\n",
    "- Common string methods:\n",
    "\n",
    "| Method             | Description                                | Example                                  |\n",
    "|--------------------|--------------------------------------------|------------------------------------------|\n",
    "| `lower()`          | Converts all characters to lowercase       | `\"HELLO\".lower()` → `'hello'`            |\n",
    "| `upper()`          | Converts all characters to uppercase       | `\"hello\".upper()` → `'HELLO'`            |\n",
    "| `strip()`          | Removes leading/trailing whitespace        | `\" hello \".strip()` → `'hello'`          |\n",
    "| `replace(a, b)`    | Replaces `a` with `b`                      | `\"Hi World\".replace(\"World\", \"Python\")`  |\n",
    "| `split()`          | Splits string into list                    | `\"a b c\".split()` → `['a', 'b', 'c']`     |\n",
    "| `find(sub)`        | Finds first index of substring             | `\"hello\".find(\"e\")` → `1`                 |\n",
    "| `count(sub)`       | Counts occurrence of substring             | `\"apple\".count(\"p\")` → `2`                |\n",
    "| `startswith(str)`  | Checks if string starts with `str`         | `\"hello\".startswith(\"he\")` → `True`      |\n",
    "| `endswith(str)`    | Checks if string ends with `str`           | `\"hello\".endswith(\"lo\")` → `True`        |\n",
    "\n",
    "---\n",
    "\n",
    "## 📌 List in Python\n",
    "\n",
    "- Lists are **mutable**, ordered collections.\n",
    "- Can contain elements of different types.\n",
    "- Common list methods:\n",
    "\n",
    "| Method              | Description                              | Example                             |\n",
    "|---------------------|------------------------------------------|-------------------------------------|\n",
    "| `append(x)`         | Adds item `x` to the end                 | `lst.append(4)`                     |\n",
    "| `insert(i, x)`      | Inserts `x` at index `i`                 | `lst.insert(1, 100)`                |\n",
    "| `extend(lst2)`      | Adds elements of `lst2` to list          | `lst.extend([1,2])`                 |\n",
    "| `remove(x)`         | Removes first occurrence of `x`          | `lst.remove(3)`                     |\n",
    "| `pop(i)`            | Removes and returns element at `i`       | `lst.pop(0)`                        |\n",
    "| `index(x)`          | Returns index of first occurrence        | `lst.index(10)`                     |\n",
    "| `count(x)`          | Returns count of value `x`               | `lst.count(5)`                      |\n",
    "| `sort()`            | Sorts the list (ascending by default)    | `lst.sort()`                        |\n",
    "| `reverse()`         | Reverses the list in place               | `lst.reverse()`                     |\n",
    "| `clear()`           | Removes all items                        | `lst.clear()`                       |\n",
    "\n",
    "---\n",
    "\n",
    "## 📌 Tuple in Python\n",
    "\n",
    "- Tuples are **immutable**, ordered collections.\n",
    "- Can store heterogeneous data like lists.\n",
    "- Only a few built-in methods:\n",
    "\n",
    "| Method        | Description                            | Example                         |\n",
    "|---------------|----------------------------------------|---------------------------------|\n",
    "| `count(x)`    | Counts occurrences of `x`              | `tup.count(10)`                 |\n",
    "| `index(x)`    | Returns first index of `x`             | `tup.index(20)`                 |\n",
    "\n",
    "---\n",
    "\n",
    "## 🛠️ Common Built-in Functions (Work on all)\n",
    "\n",
    "| Function      | Description                          | Example                         |\n",
    "|---------------|--------------------------------------|---------------------------------|\n",
    "| `len()`       | Returns length                       | `len(lst)` → `5`                |\n",
    "| `type()`      | Returns data type                    | `type(\"abc\")` → `str`           |\n",
    "| `max()`       | Largest item                         | `max(tup)`                      |\n",
    "| `min()`       | Smallest item                        | `min(lst)`                      |\n",
    "| `sum()`       | Sum of elements (numeric only)       | `sum(lst)`                      |\n",
    "| `sorted()`    | Returns sorted version (new list)    | `sorted(tup)`                   |\n",
    "\n",
    "---\n",
    "\n",
    "## 📘 Quick Summary\n",
    "\n",
    "| Type   | Mutable | Indexable | Methods Available | Example Syntax     |\n",
    "|--------|---------|-----------|--------------------|--------------------|\n",
    "| String | ❌ No   | ✅ Yes    | Many               | `\"Hello\".upper()`  |\n",
    "| List   | ✅ Yes  | ✅ Yes    | Many               | `lst.append(5)`    |\n",
    "| Tuple  | ❌ No   | ✅ Yes    | Few                | `tup.index(10)`    |\n",
    "\n",
    "---\n",
    "\n",
    "✅ Perfect for revision or interview prep!\n",
    "\n"
   ]
  },
  {
   "cell_type": "code",
   "execution_count": null,
   "id": "82d4b748",
   "metadata": {},
   "outputs": [
    {
     "name": "stdout",
     "output_type": "stream",
     "text": [
      "0\n",
      "1\n",
      "2\n",
      "3\n",
      "4\n",
      "5\n",
      "6\n",
      "7\n",
      "8\n",
      "9\n"
     ]
    }
   ],
   "source": [
    "for i in range(0,10):\n",
    "    print(i)\n",
    "    break\n",
    "    continue\n",
    "    pass\n"
   ]
  },
  {
   "cell_type": "code",
   "execution_count": 12,
   "id": "30376889",
   "metadata": {},
   "outputs": [
    {
     "name": "stdout",
     "output_type": "stream",
     "text": [
      "0\n",
      "0\n",
      "2\n",
      "4\n",
      "6\n",
      "8\n",
      "1\n",
      "0\n",
      "2\n",
      "4\n",
      "6\n",
      "8\n",
      "2\n",
      "0\n",
      "2\n",
      "4\n",
      "6\n",
      "8\n",
      "3\n",
      "0\n",
      "2\n",
      "4\n",
      "6\n",
      "8\n",
      "4\n",
      "0\n",
      "2\n",
      "4\n",
      "6\n",
      "8\n",
      "5\n",
      "0\n",
      "2\n",
      "4\n",
      "6\n",
      "8\n",
      "6\n",
      "0\n",
      "2\n",
      "4\n",
      "6\n",
      "8\n",
      "7\n",
      "0\n",
      "2\n",
      "4\n",
      "6\n",
      "8\n",
      "8\n",
      "0\n",
      "2\n",
      "4\n",
      "6\n",
      "8\n",
      "9\n",
      "0\n",
      "2\n",
      "4\n",
      "6\n",
      "8\n"
     ]
    }
   ],
   "source": [
    "for i in range(0,10):\n",
    "    pass\n",
    "    print(i)\n",
    "    for i in range(0,10,2):\n",
    "       print(i)\n",
    "       continue"
   ]
  },
  {
   "cell_type": "code",
   "execution_count": 13,
   "id": "91d5f260",
   "metadata": {},
   "outputs": [
    {
     "name": "stdout",
     "output_type": "stream",
     "text": [
      "0\n"
     ]
    }
   ],
   "source": [
    "for i in range(0,10):\n",
    "    print(i)\n",
    "    break\n",
    "    for i in range(0,10,2):\n",
    "       print(i)\n",
    "       pass"
   ]
  },
  {
   "cell_type": "code",
   "execution_count": 19,
   "id": "07d7c6a2",
   "metadata": {},
   "outputs": [
    {
     "name": "stdout",
     "output_type": "stream",
     "text": [
      "the addition of two number 100 and 200 is 300\n"
     ]
    }
   ],
   "source": [
    "num4 = 1000   #global variable\n",
    "\n",
    "def sum():\n",
    "    global num4 \n",
    "    num1 = 100   # Local variable : Attributes\n",
    "    num2 = 200\n",
    "\n",
    "    num3 = num1+num2\n",
    "\n",
    "    print(f'the addition of two number {num1} and {num2} is {num3}')\n",
    "#function calling\n",
    "sum()"
   ]
  },
  {
   "cell_type": "code",
   "execution_count": 23,
   "id": "1ee60b8d",
   "metadata": {},
   "outputs": [
    {
     "name": "stdout",
     "output_type": "stream",
     "text": [
      "3.0\n"
     ]
    }
   ],
   "source": [
    "# Define global variable num1 and num2 \n",
    "num1 = float(input('Enter the First number:'))\n",
    "num2 = float(input('Enter the Second number:'))\n",
    "\n",
    "#Define sum function with argument a and b \n",
    "def sum(a,b):\n",
    "    a+b\n",
    "    return(a+b)\n",
    "\n",
    "# calling function now\n",
    "p = sum(num1,num2)\n",
    "print(p)"
   ]
  },
  {
   "cell_type": "code",
   "execution_count": null,
   "id": "78870607",
   "metadata": {},
   "outputs": [],
   "source": []
  }
 ],
 "metadata": {
  "kernelspec": {
   "display_name": "base",
   "language": "python",
   "name": "python3"
  },
  "language_info": {
   "codemirror_mode": {
    "name": "ipython",
    "version": 3
   },
   "file_extension": ".py",
   "mimetype": "text/x-python",
   "name": "python",
   "nbconvert_exporter": "python",
   "pygments_lexer": "ipython3",
   "version": "3.12.7"
  }
 },
 "nbformat": 4,
 "nbformat_minor": 5
}
