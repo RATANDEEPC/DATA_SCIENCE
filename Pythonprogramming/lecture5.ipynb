{
 "cells": [
  {
   "cell_type": "code",
   "execution_count": null,
   "id": "99f5aa34",
   "metadata": {},
   "outputs": [],
   "source": [
    "# Python Notes: String, List, and Tuple – Methods & Functions\n",
    "\n",
    "---\n",
    "\n",
    "## 📌 String in Python\n",
    "\n",
    "- Strings are **immutable** sequences of characters.\n",
    "- Common string methods:\n",
    "\n",
    "| Method             | Description                                | Example                                  |\n",
    "|--------------------|--------------------------------------------|------------------------------------------|\n",
    "| `lower()`          | Converts all characters to lowercase       | `\"HELLO\".lower()` → `'hello'`            |\n",
    "| `upper()`          | Converts all characters to uppercase       | `\"hello\".upper()` → `'HELLO'`            |\n",
    "| `strip()`          | Removes leading/trailing whitespace        | `\" hello \".strip()` → `'hello'`          |\n",
    "| `replace(a, b)`    | Replaces `a` with `b`                      | `\"Hi World\".replace(\"World\", \"Python\")`  |\n",
    "| `split()`          | Splits string into list                    | `\"a b c\".split()` → `['a', 'b', 'c']`     |\n",
    "| `find(sub)`        | Finds first index of substring             | `\"hello\".find(\"e\")` → `1`                 |\n",
    "| `count(sub)`       | Counts occurrence of substring             | `\"apple\".count(\"p\")` → `2`                |\n",
    "| `startswith(str)`  | Checks if string starts with `str`         | `\"hello\".startswith(\"he\")` → `True`      |\n",
    "| `endswith(str)`    | Checks if string ends with `str`           | `\"hello\".endswith(\"lo\")` → `True`        |\n",
    "\n",
    "---\n",
    "\n",
    "## 📌 List in Python\n",
    "\n",
    "- Lists are **mutable**, ordered collections.\n",
    "- Can contain elements of different types.\n",
    "- Common list methods:\n",
    "\n",
    "| Method              | Description                              | Example                             |\n",
    "|---------------------|------------------------------------------|-------------------------------------|\n",
    "| `append(x)`         | Adds item `x` to the end                 | `lst.append(4)`                     |\n",
    "| `insert(i, x)`      | Inserts `x` at index `i`                 | `lst.insert(1, 100)`                |\n",
    "| `extend(lst2)`      | Adds elements of `lst2` to list          | `lst.extend([1,2])`                 |\n",
    "| `remove(x)`         | Removes first occurrence of `x`          | `lst.remove(3)`                     |\n",
    "| `pop(i)`            | Removes and returns element at `i`       | `lst.pop(0)`                        |\n",
    "| `index(x)`          | Returns index of first occurrence        | `lst.index(10)`                     |\n",
    "| `count(x)`          | Returns count of value `x`               | `lst.count(5)`                      |\n",
    "| `sort()`            | Sorts the list (ascending by default)    | `lst.sort()`                        |\n",
    "| `reverse()`         | Reverses the list in place               | `lst.reverse()`                     |\n",
    "| `clear()`           | Removes all items                        | `lst.clear()`                       |\n",
    "\n",
    "---\n",
    "\n",
    "## 📌 Tuple in Python\n",
    "\n",
    "- Tuples are **immutable**, ordered collections.\n",
    "- Can store heterogeneous data like lists.\n",
    "- Only a few built-in methods:\n",
    "\n",
    "| Method        | Description                            | Example                         |\n",
    "|---------------|----------------------------------------|---------------------------------|\n",
    "| `count(x)`    | Counts occurrences of `x`              | `tup.count(10)`                 |\n",
    "| `index(x)`    | Returns first index of `x`             | `tup.index(20)`                 |\n",
    "\n",
    "---\n",
    "\n",
    "## 🛠️ Common Built-in Functions (Work on all)\n",
    "\n",
    "| Function      | Description                          | Example                         |\n",
    "|---------------|--------------------------------------|---------------------------------|\n",
    "| `len()`       | Returns length                       | `len(lst)` → `5`                |\n",
    "| `type()`      | Returns data type                    | `type(\"abc\")` → `str`           |\n",
    "| `max()`       | Largest item                         | `max(tup)`                      |\n",
    "| `min()`       | Smallest item                        | `min(lst)`                      |\n",
    "| `sum()`       | Sum of elements (numeric only)       | `sum(lst)`                      |\n",
    "| `sorted()`    | Returns sorted version (new list)    | `sorted(tup)`                   |\n",
    "\n",
    "---\n",
    "\n",
    "## 📘 Quick Summary\n",
    "\n",
    "| Type   | Mutable | Indexable | Methods Available | Example Syntax     |\n",
    "|--------|---------|-----------|--------------------|--------------------|\n",
    "| String | ❌ No   | ✅ Yes    | Many               | `\"Hello\".upper()`  |\n",
    "| List   | ✅ Yes  | ✅ Yes    | Many               | `lst.append(5)`    |\n",
    "| Tuple  | ❌ No   | ✅ Yes    | Few                | `tup.index(10)`    |\n",
    "\n",
    "---\n",
    "\n",
    "✅ Perfect for revision or interview prep!\n",
    "\n"
   ]
  },
  {
   "cell_type": "code",
   "execution_count": null,
   "id": "82d4b748",
   "metadata": {},
   "outputs": [
    {
     "name": "stdout",
     "output_type": "stream",
     "text": [
      "0\n",
      "1\n",
      "2\n",
      "3\n",
      "4\n",
      "5\n",
      "6\n",
      "7\n",
      "8\n",
      "9\n"
     ]
    }
   ],
   "source": [
    "for i in range(0,10):\n",
    "    print(i)\n",
    "    break\n",
    "    continue\n",
    "    pass\n"
   ]
  },
  {
   "cell_type": "code",
   "execution_count": 12,
   "id": "30376889",
   "metadata": {},
   "outputs": [
    {
     "name": "stdout",
     "output_type": "stream",
     "text": [
      "0\n",
      "0\n",
      "2\n",
      "4\n",
      "6\n",
      "8\n",
      "1\n",
      "0\n",
      "2\n",
      "4\n",
      "6\n",
      "8\n",
      "2\n",
      "0\n",
      "2\n",
      "4\n",
      "6\n",
      "8\n",
      "3\n",
      "0\n",
      "2\n",
      "4\n",
      "6\n",
      "8\n",
      "4\n",
      "0\n",
      "2\n",
      "4\n",
      "6\n",
      "8\n",
      "5\n",
      "0\n",
      "2\n",
      "4\n",
      "6\n",
      "8\n",
      "6\n",
      "0\n",
      "2\n",
      "4\n",
      "6\n",
      "8\n",
      "7\n",
      "0\n",
      "2\n",
      "4\n",
      "6\n",
      "8\n",
      "8\n",
      "0\n",
      "2\n",
      "4\n",
      "6\n",
      "8\n",
      "9\n",
      "0\n",
      "2\n",
      "4\n",
      "6\n",
      "8\n"
     ]
    }
   ],
   "source": [
    "for i in range(0,10):\n",
    "    pass\n",
    "    print(i)\n",
    "    for i in range(0,10,2):\n",
    "       print(i)\n",
    "       continue"
   ]
  },
  {
   "cell_type": "code",
   "execution_count": 13,
   "id": "91d5f260",
   "metadata": {},
   "outputs": [
    {
     "name": "stdout",
     "output_type": "stream",
     "text": [
      "0\n"
     ]
    }
   ],
   "source": [
    "for i in range(0,10):\n",
    "    print(i)\n",
    "    break\n",
    "    for i in range(0,10,2):\n",
    "       print(i)\n",
    "       pass"
   ]
  },
  {
   "cell_type": "code",
   "execution_count": 31,
   "id": "07d7c6a2",
   "metadata": {},
   "outputs": [
    {
     "name": "stdout",
     "output_type": "stream",
     "text": [
      "The addition of two numbers 100 and 200 is 300 and 1000\n"
     ]
    }
   ],
   "source": [
    "num4 = 1000  # Global variable\n",
    "\n",
    "def sum():\n",
    "    global num4  # Accessing the global variable\n",
    "    num1 = 100   # Local variable\n",
    "    num2 = 200   # Local variable\n",
    "\n",
    "    num3 = num1 + num2  # Local variable\n",
    "\n",
    "    print(f'The addition of two numbers {num1} and {num2} is {num3} and {num4}')\n",
    "\n",
    "# Function calling\n",
    "sum()\n"
   ]
  },
  {
   "cell_type": "code",
   "execution_count": 23,
   "id": "1ee60b8d",
   "metadata": {},
   "outputs": [
    {
     "name": "stdout",
     "output_type": "stream",
     "text": [
      "3.0\n"
     ]
    }
   ],
   "source": [
    "# Define global variable num1 and num2 \n",
    "num1 = float(input('Enter the First number:'))\n",
    "num2 = float(input('Enter the Second number:'))\n",
    "\n",
    "#Define sum function with argument a and b \n",
    "def sum(a,b):\n",
    "    a+b\n",
    "    return(a+b)\n",
    "\n",
    "# calling function now\n",
    "p = sum(num1,num2)\n",
    "print(p)"
   ]
  },
  {
   "cell_type": "code",
   "execution_count": null,
   "id": "78870607",
   "metadata": {},
   "outputs": [
    {
     "name": "stdout",
     "output_type": "stream",
     "text": [
      "120\n"
     ]
    }
   ],
   "source": [
    "#recursive Function\n",
    "#5!=5*4*3*2*1=120\n",
    "\n",
    "def factorial(n):\n",
    "    if n == 1:\n",
    "        return 1\n",
    "    else:\n",
    "        return n * factorial(n-1)\n",
    "    \n",
    "print(factorial(5))"
   ]
  },
  {
   "cell_type": "code",
   "execution_count": 28,
   "id": "9d4aa064",
   "metadata": {},
   "outputs": [
    {
     "name": "stdout",
     "output_type": "stream",
     "text": [
      "8\n"
     ]
    }
   ],
   "source": [
    "def fibonacci(n):\n",
    "    if n <= 1:\n",
    "        return n\n",
    "    else:\n",
    "        return fibonacci(n-1) + fibonacci(n-2)\n",
    "    \n",
    "print(fibonacci(6))"
   ]
  },
  {
   "cell_type": "code",
   "execution_count": 51,
   "id": "310aad61",
   "metadata": {},
   "outputs": [
    {
     "name": "stdout",
     "output_type": "stream",
     "text": [
      "amount is 10000\n"
     ]
    }
   ],
   "source": [
    "balance = 10000   # Global variable\n",
    "\n",
    "def balance_amount():\n",
    "    global balance \n",
    "    print(f\"amount is {balance}\")\n",
    "\n",
    "def withdraw_amount():\n",
    "    global balance \n",
    "    amount = float(input(\"Enter the amount to withdraw: \"))\n",
    "    print(f\"withdraw amount is {balance - amount}\")\n",
    "\n",
    "def deposit_amount():\n",
    "    global balance\n",
    "    amount = float(input(\"Enter the amount to deposit: \"))\n",
    "    print(f\"Deposite amount is {balance + amount}\")\n",
    "\n",
    "def bank():\n",
    "    global balance\n",
    "    option = input(\"Enter your option: \")\n",
    "\n",
    "    if option == \"1\":\n",
    "        balance_amount()\n",
    "    elif option == \"2\":\n",
    "        withdraw_amount()\n",
    "    elif option == \"3\":\n",
    "        deposit_amount()\n",
    "    else:\n",
    "        print('chunav galat hai wapis menu mai jaiye')\n",
    "\n",
    "bank()\n"
   ]
  },
  {
   "cell_type": "code",
   "execution_count": 65,
   "id": "9d13cde2",
   "metadata": {},
   "outputs": [
    {
     "name": "stdout",
     "output_type": "stream",
     "text": [
      "you cannot withdraw amount\n"
     ]
    }
   ],
   "source": [
    "# In this question paisaa 2000 ke niche ni jana chiye withdraw se\n",
    "\n",
    "balance = 10000   # Global variable1\n",
    "threshold = 2000  # Global variable2\n",
    "def balance_amount():\n",
    "    global balance \n",
    "    print(f\"amount is {balance}\")\n",
    "\n",
    "def credit_amount():\n",
    "    global balance \n",
    "    amount = float(input(\"Enter the amount to credit: \"))\n",
    "    print(f\"credit amount is {balance + amount}\")\n",
    "\n",
    "def withdraw_amount():\n",
    "    global balance\n",
    "    amount = float(input(\"Enter the amount to withdraw: \"))\n",
    "    if amount > threshold:\n",
    "        print(\"you cannot withdraw amount\")\n",
    "    else:\n",
    "        print(f\"withdraw amount is {balance - amount}\")\n",
    "\n",
    "def bank():\n",
    "    global balance\n",
    "    option = input(\"Enter your option: \")\n",
    "\n",
    "    if option == \"1\":\n",
    "        balance_amount()\n",
    "    elif option == \"2\":\n",
    "        credit_amount()\n",
    "    elif option == \"3\":\n",
    "      withdraw_amount()\n",
    "    else:\n",
    "        print('chunav galat hai wapis menu mai jaiye')\n",
    "\n",
    "bank()\n",
    "\n"
   ]
  },
  {
   "cell_type": "code",
   "execution_count": null,
   "id": "3aed9aac",
   "metadata": {},
   "outputs": [],
   "source": []
  }
 ],
 "metadata": {
  "kernelspec": {
   "display_name": "base",
   "language": "python",
   "name": "python3"
  },
  "language_info": {
   "codemirror_mode": {
    "name": "ipython",
    "version": 3
   },
   "file_extension": ".py",
   "mimetype": "text/x-python",
   "name": "python",
   "nbconvert_exporter": "python",
   "pygments_lexer": "ipython3",
   "version": "3.12.7"
  }
 },
 "nbformat": 4,
 "nbformat_minor": 5
}
