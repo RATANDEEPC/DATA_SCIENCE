{
 "cells": [
  {
   "cell_type": "code",
   "execution_count": 1,
   "id": "fb1dc71e",
   "metadata": {},
   "outputs": [
    {
     "name": "stdout",
     "output_type": "stream",
     "text": [
      "[10 20 30]\n",
      "<class 'numpy.ndarray'>\n",
      "1\n",
      "<class 'numpy.ndarray'>\n",
      "2\n",
      "(3, 3)\n",
      "[[0 1 2 3 4]\n",
      " [5 6 7 8 9]]\n",
      "0 9 45\n",
      "[10 20 30 40 50 60]\n",
      "[[10, 20], [30, 40], [50, 60]]\n",
      "<class 'list'>\n",
      "[[0. 0. 0.]\n",
      " [0. 0. 0.]\n",
      " [0. 0. 0.]]\n",
      "[[1. 1. 1. 1.]\n",
      " [1. 1. 1. 1.]\n",
      " [1. 1. 1. 1.]]\n",
      "[[1. 0. 0. 0. 0. 0.]\n",
      " [0. 1. 0. 0. 0. 0.]\n",
      " [0. 0. 1. 0. 0. 0.]\n",
      " [0. 0. 0. 1. 0. 0.]\n",
      " [0. 0. 0. 0. 1. 0.]\n",
      " [0. 0. 0. 0. 0. 1.]]\n",
      "[ 0  1  2  3  4  5  6  7  8  9 10 11 12 13 14 15 16 17 18 19]\n",
      "3\n",
      "[[[ 0  1  2  3]\n",
      "  [ 4  5  6  7]\n",
      "  [ 8  9 10 11]\n",
      "  [12 13 14 15]\n",
      "  [16 17 18 19]]]\n",
      "5.766281297335398\n",
      "33.25\n"
     ]
    }
   ],
   "source": [
    "# NumPy Basics - Learning Notebook\n",
    "import numpy as np\n",
    "\n",
    "# 1. Create a basic list and convert to NumPy array\n",
    "arr = [10, 20, 30]\n",
    "narr = np.array(arr)\n",
    "print(narr)  # Output: [10 20 30]\n",
    "\n",
    "# 2. Check array type and dimension\n",
    "print(type(narr))     # <class 'numpy.ndarray'>\n",
    "print(narr.ndim)      # 1 (1D array)\n",
    "\n",
    "# 3. Create a 2D array\n",
    "arr = [[10, 20, 30], [40, 50, 60], [70, 40, 58]]\n",
    "narr = np.array(arr)\n",
    "print(type(narr))     # <class 'numpy.ndarray'>\n",
    "print(narr.ndim)      # 2\n",
    "print(narr.shape)     # (3, 3)\n",
    "\n",
    "# 4. Reshape a 1D array into 2D (2 rows, 5 columns)\n",
    "array = np.array([0, 1, 2, 3, 4, 5, 6, 7, 8, 9])\n",
    "reshaped = array.reshape(2, 5)\n",
    "print(reshaped)\n",
    "\n",
    "# 5. Basic statistics\n",
    "print(array.min(), array.max(), array.sum())  # 0 9 45\n",
    "\n",
    "# 6. Flattening a 2D array\n",
    "array = np.array([[10, 20], [30, 40], [50, 60]])\n",
    "flat_array = array.flatten()\n",
    "print(flat_array)  # [10 20 30 40 50 60]\n",
    "\n",
    "# 7. Convert NumPy array to list\n",
    "lst = array.tolist()\n",
    "print(lst)          # [[10, 20], [30, 40], [50, 60]]\n",
    "print(type(lst))    # <class 'list'>\n",
    "\n",
    "# 8. Create zero matrix\n",
    "z = np.zeros((3, 3))\n",
    "print(z)\n",
    "\n",
    "# 9. Create one matrix\n",
    "o = np.ones((3, 4))\n",
    "print(o)\n",
    "\n",
    "# 10. Identity matrix\n",
    "e = np.eye(6)\n",
    "print(e)\n",
    "\n",
    "# 11. Generate array with arange\n",
    "array = np.arange(0, 20)\n",
    "print(array)\n",
    "\n",
    "# 12. Reshape into 3D array\n",
    "narray = array.reshape(1, 5, 4)\n",
    "print(narray.ndim)  # 3\n",
    "print(narray)\n",
    "\n",
    "# 13. Standard deviation and variance\n",
    "print(narray.std())  # Standard deviation\n",
    "print(narray.var())  # Variance\n"
   ]
  },
  {
   "cell_type": "code",
   "execution_count": 8,
   "id": "c0816ce1",
   "metadata": {},
   "outputs": [],
   "source": [
    "# create two dimensional array having 6 rows and 5 coloumns\n",
    "\n",
    "array = np.array(np.arange(1,31))\n",
    "two_array = array.reshape(6,5)\n"
   ]
  },
  {
   "cell_type": "code",
   "execution_count": 7,
   "id": "fce501ee",
   "metadata": {},
   "outputs": [
    {
     "data": {
      "text/plain": [
       "array([[ 1,  2,  3,  4,  5],\n",
       "       [ 6,  7,  8,  9, 10],\n",
       "       [11, 12, 13, 14, 15],\n",
       "       [16, 17, 18, 19, 20],\n",
       "       [21, 22, 23, 24, 25],\n",
       "       [26, 27, 28, 29, 30]])"
      ]
     },
     "execution_count": 7,
     "metadata": {},
     "output_type": "execute_result"
    }
   ],
   "source": [
    "two_array"
   ]
  },
  {
   "cell_type": "code",
   "execution_count": 22,
   "id": "e74d0081",
   "metadata": {},
   "outputs": [
    {
     "data": {
      "text/plain": [
       "29"
      ]
     },
     "execution_count": 22,
     "metadata": {},
     "output_type": "execute_result"
    }
   ],
   "source": [
    "#slicing numpy array 2 se start hoga 3 pe khatam coloum mai start hoga 1 se 4 pe khatam \n",
    "two_array[5:,-2:][0][0]"
   ]
  },
  {
   "cell_type": "code",
   "execution_count": null,
   "id": "c93eabdf",
   "metadata": {},
   "outputs": [
    {
     "data": {
      "text/plain": [
       "array([[19, 20],\n",
       "       [24, 25],\n",
       "       [29, 30]])"
      ]
     },
     "execution_count": 23,
     "metadata": {},
     "output_type": "execute_result"
    }
   ],
   "source": [
    "two_array[3:,3:]"
   ]
  }
 ],
 "metadata": {
  "kernelspec": {
   "display_name": "base",
   "language": "python",
   "name": "python3"
  },
  "language_info": {
   "codemirror_mode": {
    "name": "ipython",
    "version": 3
   },
   "file_extension": ".py",
   "mimetype": "text/x-python",
   "name": "python",
   "nbconvert_exporter": "python",
   "pygments_lexer": "ipython3",
   "version": "3.12.7"
  }
 },
 "nbformat": 4,
 "nbformat_minor": 5
}
