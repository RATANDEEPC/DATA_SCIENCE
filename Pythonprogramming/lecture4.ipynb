{
 "cells": [
  {
   "cell_type": "code",
   "execution_count": null,
   "id": "02637524",
   "metadata": {},
   "outputs": [],
   "source": [
    "#Tuple : Data structure of python programming\n",
    "#Tuple is immutable wheareas list is mutable\n",
    "\n",
    "tup = ()\n",
    "tup = (1,2,3,4,5,6)\n",
    "tup = ('hi', 'hello','bye')\n",
    "tup = (1.2,2.4,4.6)\n",
    "tup = (true false)\n"
   ]
  },
  {
   "cell_type": "code",
   "execution_count": null,
   "id": "fe9fb3eb",
   "metadata": {},
   "outputs": [],
   "source": [
    "tup = (10,20,30,2.12,3.12,'hii')\n",
    "\n"
   ]
  },
  {
   "cell_type": "code",
   "execution_count": null,
   "id": "c398b264",
   "metadata": {},
   "outputs": [],
   "source": [
    "#Using concept of indexing and slicing\n",
    "same as list "
   ]
  },
  {
   "cell_type": "code",
   "execution_count": 14,
   "id": "6d7cc306",
   "metadata": {},
   "outputs": [
    {
     "name": "stdout",
     "output_type": "stream",
     "text": [
      "Name: Raj\n",
      "Math Marks: 90\n"
     ]
    }
   ],
   "source": [
    "# Creating a dictionary\n",
    "student = {\n",
    "    \"name\": \"Raj\",\n",
    "    \"age\": 24,\n",
    "    \"marks\": {\"Math\": 90, \"English\": 85},\n",
    "    \"is_enrolled\": True\n",
    "}\n",
    "\n",
    "# Accessing values\n",
    "print(\"Name:\", student[\"name\"])\n",
    "print(\"Math Marks:\", student[\"marks\"][\"Math\"])\n"
   ]
  }
 ],
 "metadata": {
  "kernelspec": {
   "display_name": "base",
   "language": "python",
   "name": "python3"
  },
  "language_info": {
   "codemirror_mode": {
    "name": "ipython",
    "version": 3
   },
   "file_extension": ".py",
   "mimetype": "text/x-python",
   "name": "python",
   "nbconvert_exporter": "python",
   "pygments_lexer": "ipython3",
   "version": "3.12.7"
  }
 },
 "nbformat": 4,
 "nbformat_minor": 5
}
