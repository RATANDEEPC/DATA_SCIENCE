{
 "cells": [
  {
   "cell_type": "code",
   "execution_count": null,
   "id": "02637524",
   "metadata": {},
   "outputs": [],
   "source": [
    "#Tuple : Data structure of python programming\n",
    "#Tuple is immutable wheareas list is mutable\n",
    "\n",
    "tup = ()\n",
    "tup = (1,2,3,4,5,6)\n",
    "tup = ('hi', 'hello','bye')\n",
    "tup = (1.2,2.4,4.6)\n",
    "tup = (true false)\n"
   ]
  },
  {
   "cell_type": "code",
   "execution_count": null,
   "id": "fe9fb3eb",
   "metadata": {},
   "outputs": [],
   "source": [
    "tup = (10,20,30,2.12,3.12,'hii')\n",
    "\n"
   ]
  },
  {
   "cell_type": "code",
   "execution_count": null,
   "id": "c398b264",
   "metadata": {},
   "outputs": [],
   "source": [
    "#Using concept of indexing and slicing\n",
    "same as list "
   ]
  },
  {
   "cell_type": "code",
   "execution_count": 14,
   "id": "6d7cc306",
   "metadata": {},
   "outputs": [
    {
     "name": "stdout",
     "output_type": "stream",
     "text": [
      "Name: Raj\n",
      "Math Marks: 90\n"
     ]
    }
   ],
   "source": [
    "# Creating a dictionary\n",
    "student = {\n",
    "    \"name\": \"Raj\",\n",
    "    \"age\": 24,\n",
    "    \"marks\": {\"Math\": 90, \"English\": 85},\n",
    "    \"is_enrolled\": True\n",
    "}\n",
    "\n",
    "# Accessing values\n",
    "print(\"Name:\", student[\"name\"])\n",
    "print(\"Math Marks:\", student[\"marks\"][\"Math\"])\n"
   ]
  },
  {
   "cell_type": "code",
   "execution_count": 18,
   "id": "b5ff953e",
   "metadata": {},
   "outputs": [
    {
     "name": "stdout",
     "output_type": "stream",
     "text": [
      "0 1 2 3 4 5 6 7 8 9 "
     ]
    }
   ],
   "source": [
    "#loops\n",
    "for i in range(0,10):\n",
    "\n",
    "     print(i,end = ' ')"
   ]
  },
  {
   "cell_type": "code",
   "execution_count": 19,
   "id": "07f5995e",
   "metadata": {},
   "outputs": [
    {
     "name": "stdout",
     "output_type": "stream",
     "text": [
      "0\n",
      "1\n",
      "2\n",
      "3\n",
      "4\n",
      "5\n",
      "6\n",
      "7\n",
      "8\n",
      "9\n"
     ]
    }
   ],
   "source": [
    "#loops\n",
    "for i in range(0,10):\n",
    "\n",
    "     print(i)"
   ]
  },
  {
   "cell_type": "code",
   "execution_count": 20,
   "id": "d75463ac",
   "metadata": {},
   "outputs": [
    {
     "name": "stdout",
     "output_type": "stream",
     "text": [
      "3 is present in the tuple.\n"
     ]
    }
   ],
   "source": [
    "#if else logic\n",
    "tup1 = (1, 2, 3, 4)\n",
    "num = 3\n",
    "\n",
    "if num in tup1:\n",
    "    print(f\"{num} is present in the tuple.\")\n",
    "else:\n",
    "    print(f\"{num} is not present in the tuple.\")\n"
   ]
  },
  {
   "cell_type": "code",
   "execution_count": 23,
   "id": "8d1a3d96",
   "metadata": {},
   "outputs": [
    {
     "name": "stdout",
     "output_type": "stream",
     "text": [
      "student is weak\n"
     ]
    }
   ],
   "source": [
    "marks = float(input('Enter the marks'))\n",
    "\n",
    "if marks >= 60:\n",
    "    print('student is bright')\n",
    "else:\n",
    "    print('student is weak')"
   ]
  },
  {
   "cell_type": "code",
   "execution_count": 27,
   "id": "c96441c5",
   "metadata": {},
   "outputs": [
    {
     "name": "stdout",
     "output_type": "stream",
     "text": [
      "Weak student\n"
     ]
    }
   ],
   "source": [
    "'''\n",
    "step1 : Enter the marks from user\n",
    "step2 : Logic building\n",
    "        80 >= Bright student\n",
    "        \n",
    "        60 and 79 : good student\n",
    "        50 and 59 : Average student\n",
    "        40 and 49 : weak student\n",
    "\n",
    "'''\n",
    "\n",
    "marks = float(input('Enter the marks'))\n",
    "\n",
    "if marks >= 80:\n",
    "    print(\"Bright student\")\n",
    "elif marks >= 60 and marks < 79:\n",
    "    print(\"Good student\")\n",
    "elif marks >= 50 and marks < 59:\n",
    "    print(\"Average student\")\n",
    "elif marks >= 40 and marks < 49:\n",
    "    print(\"Weak student\")\n"
   ]
  },
  {
   "cell_type": "code",
   "execution_count": 45,
   "id": "ccbb2cd3",
   "metadata": {},
   "outputs": [
    {
     "name": "stdout",
     "output_type": "stream",
     "text": [
      "entered string is palindrom\n"
     ]
    }
   ],
   "source": [
    "string = input(\"Enter a word: \")\n",
    "string1 = string[::-1]\n",
    "\n",
    "if string == string1:\n",
    "    print(\"entered string is palindrom\")\n",
    "else:\n",
    "    \n",
    "    print(\" string is not palindrom \")\n"
   ]
  },
  {
   "cell_type": "code",
   "execution_count": 46,
   "id": "b68c5eb2",
   "metadata": {},
   "outputs": [
    {
     "data": {
      "text/plain": [
       "215.0"
      ]
     },
     "execution_count": 46,
     "metadata": {},
     "output_type": "execute_result"
    }
   ],
   "source": [
    "#PEMDAS\n",
    "(100*2+(30/2))"
   ]
  },
  {
   "cell_type": "code",
   "execution_count": null,
   "id": "2a781655",
   "metadata": {},
   "outputs": [
    {
     "data": {
      "text/plain": [
       "2.0"
      ]
     },
     "execution_count": 53,
     "metadata": {},
     "output_type": "execute_result"
    }
   ],
   "source": [
    "# Exponent Operator \n",
    "# ** : is square of any number\n",
    "(4**0.5)"
   ]
  },
  {
   "cell_type": "code",
   "execution_count": 49,
   "id": "04409ed3",
   "metadata": {},
   "outputs": [
    {
     "data": {
      "text/plain": [
       "50.0"
      ]
     },
     "execution_count": 49,
     "metadata": {},
     "output_type": "execute_result"
    }
   ],
   "source": [
    "# / : Answer in float\n",
    "100/2"
   ]
  },
  {
   "cell_type": "code",
   "execution_count": null,
   "id": "a6e247de",
   "metadata": {},
   "outputs": [
    {
     "data": {
      "text/plain": [
       "50"
      ]
     },
     "execution_count": 50,
     "metadata": {},
     "output_type": "execute_result"
    }
   ],
   "source": [
    "# // : answer in int\n",
    "100//2"
   ]
  },
  {
   "cell_type": "code",
   "execution_count": null,
   "id": "0605e925",
   "metadata": {},
   "outputs": [
    {
     "data": {
      "text/plain": [
       "0"
      ]
     },
     "execution_count": 51,
     "metadata": {},
     "output_type": "execute_result"
    }
   ],
   "source": [
    "# moduleo operator\n",
    "1000%2"
   ]
  },
  {
   "cell_type": "code",
   "execution_count": 64,
   "id": "cec1006b",
   "metadata": {},
   "outputs": [
    {
     "name": "stdout",
     "output_type": "stream",
     "text": [
      "number is even\n"
     ]
    }
   ],
   "source": [
    "num = float(input('Enter the number: '))\n",
    "\n",
    "if num % 2 == 0:\n",
    "    print('number is even')\n",
    "else:\n",
    "    print('number is odd')"
   ]
  },
  {
   "cell_type": "code",
   "execution_count": 83,
   "id": "c31c228f",
   "metadata": {},
   "outputs": [
    {
     "name": "stdout",
     "output_type": "stream",
     "text": [
      "HII\n",
      "WORLD\n"
     ]
    }
   ],
   "source": [
    "a = ['HII', \"WORLD\"]\n",
    "for i in a:\n",
    "    print(i)\n"
   ]
  },
  {
   "cell_type": "code",
   "execution_count": 84,
   "id": "cf5ff21c",
   "metadata": {},
   "outputs": [
    {
     "name": "stdout",
     "output_type": "stream",
     "text": [
      "*\n",
      "**\n",
      "***\n",
      "****\n",
      "*****\n",
      "******\n"
     ]
    }
   ],
   "source": [
    "#loops\n",
    "for i in range(1,7):\n",
    "\n",
    "     print(i*'*')"
   ]
  }
 ],
 "metadata": {
  "kernelspec": {
   "display_name": "base",
   "language": "python",
   "name": "python3"
  },
  "language_info": {
   "codemirror_mode": {
    "name": "ipython",
    "version": 3
   },
   "file_extension": ".py",
   "mimetype": "text/x-python",
   "name": "python",
   "nbconvert_exporter": "python",
   "pygments_lexer": "ipython3",
   "version": "3.12.7"
  }
 },
 "nbformat": 4,
 "nbformat_minor": 5
}
