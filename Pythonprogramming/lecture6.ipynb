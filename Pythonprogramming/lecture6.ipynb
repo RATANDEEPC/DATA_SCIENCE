{
 "cells": [
  {
   "cell_type": "code",
   "execution_count": 5,
   "id": "18a8f5fc",
   "metadata": {},
   "outputs": [
    {
     "name": "stdout",
     "output_type": "stream",
     "text": [
      "[0, 1, 4, 9, 16, 25, 36, 49, 64, 81]\n"
     ]
    }
   ],
   "source": [
    "lst = []\n",
    "\n",
    "for i in range(10):\n",
    "    lst.append(i**2)\n",
    "print(lst)"
   ]
  },
  {
   "cell_type": "code",
   "execution_count": 9,
   "id": "9a2e0fff",
   "metadata": {},
   "outputs": [
    {
     "name": "stdout",
     "output_type": "stream",
     "text": [
      "[0, 1, 4, 9, 16, 25, 36, 49, 64, 81]\n"
     ]
    }
   ],
   "source": [
    "#or we can write like this also\n",
    "lst = [i**2 for i in range(10)]\n",
    "\n",
    "print(lst)"
   ]
  },
  {
   "cell_type": "code",
   "execution_count": 8,
   "id": "f82f1cfd",
   "metadata": {},
   "outputs": [
    {
     "data": {
      "text/plain": [
       "110"
      ]
     },
     "execution_count": 8,
     "metadata": {},
     "output_type": "execute_result"
    }
   ],
   "source": [
    "lst = [0,1,2,3,4,5,6,7,7,8,9,90]\n",
    "\n",
    "sum(([i for i in lst if i%2 == 0]))"
   ]
  },
  {
   "cell_type": "code",
   "execution_count": 18,
   "id": "4bdba899",
   "metadata": {},
   "outputs": [
    {
     "name": "stdout",
     "output_type": "stream",
     "text": [
      "3000\n",
      "None\n"
     ]
    }
   ],
   "source": [
    "class ClassName:\n",
    "    num1 = 1000\n",
    "    num2 = 2000\n",
    "\n",
    "    def Sum(self):\n",
    "        \n",
    "        print(self.num1 + self.num2)\n",
    "\n",
    "A = ClassName()\n",
    "\n",
    "ans = A.Sum()\n",
    "print(ans)\n"
   ]
  },
  {
   "cell_type": "code",
   "execution_count": 23,
   "id": "6158e43d",
   "metadata": {},
   "outputs": [
    {
     "name": "stdout",
     "output_type": "stream",
     "text": [
      "Eye Color: y\n",
      "breed y\n",
      "g\n"
     ]
    }
   ],
   "source": [
    "class Dog:\n",
    "    kind = \"Friendly\"\n",
    "\n",
    "    def __init__(self):\n",
    "        self.eye = input(\"Enter the eye color: \")\n",
    "        self.breed = input(\"Enter the breed: \")\n",
    "        self.sound = input(\"Enter the sound: \")\n",
    "\n",
    "    def make_sound(self):\n",
    "        print(self.sound)\n",
    "\n",
    "# Create object\n",
    "a = Dog()\n",
    "\n",
    "# Access attributes\n",
    "print(\"Eye Color:\", a.eye)\n",
    "print(\"breed\", a.breed)\n",
    "\n",
    "# Call method\n",
    "a.make_sound()\n"
   ]
  },
  {
   "cell_type": "code",
   "execution_count": 34,
   "id": "748d5ddc",
   "metadata": {},
   "outputs": [
    {
     "name": "stdout",
     "output_type": "stream",
     "text": [
      "Supercharged\n",
      "Petrol\n"
     ]
    }
   ],
   "source": [
    "class Car:\n",
    "    def Engine(self):\n",
    "        self.engine_type = input('Enter the engine type: ')\n",
    "        print(self.engine_type)\n",
    "\n",
    "class Fueltype(Car):  \n",
    "    def Fuel(self):\n",
    "        self.fuel_type = input('Enter fuel type: ')\n",
    "        print(self.fuel_type)\n",
    "\n",
    "# Creating objects and using the methods\n",
    "a = Car()\n",
    "a.Engine()\n",
    "\n",
    "b = Fueltype()  # Instantiate properly\n",
    "\n",
    "b.Fuel()\n"
   ]
  },
  {
   "cell_type": "code",
   "execution_count": 27,
   "id": "07c0940d",
   "metadata": {},
   "outputs": [
    {
     "name": "stdout",
     "output_type": "stream",
     "text": [
      "You got this from RAMDAS That is BLUE and 6FT\n",
      "You want the feature: CALMNESS\n"
     ]
    }
   ],
   "source": [
    "class Dada:\n",
    "    \n",
    "    def dadainfo(self):\n",
    "        self.dada_name = input('Enter which dada: ')\n",
    "        self.eyecolour = input('Enter colour of eyes: ')\n",
    "        self.height = input('Enter height: ')\n",
    "        print(f\"You got this from {self.dada_name} That is {self.eyecolour} and {self.height}\")\n",
    "\n",
    "class Inheritance:\n",
    "    \n",
    "    def feature(self):\n",
    "        self.feature = input('Enter what feature you want from him: ')\n",
    "        print(f\"You want the feature: {self.feature}\")\n",
    "\n",
    "a = Dada()\n",
    "a.dadainfo()\n",
    "\n",
    "b = Inheritance()\n",
    "b.feature()\n"
   ]
  }
 ],
 "metadata": {
  "kernelspec": {
   "display_name": "base",
   "language": "python",
   "name": "python3"
  },
  "language_info": {
   "codemirror_mode": {
    "name": "ipython",
    "version": 3
   },
   "file_extension": ".py",
   "mimetype": "text/x-python",
   "name": "python",
   "nbconvert_exporter": "python",
   "pygments_lexer": "ipython3",
   "version": "3.12.7"
  }
 },
 "nbformat": 4,
 "nbformat_minor": 5
}
