{
 "cells": [
  {
   "cell_type": "code",
   "execution_count": 5,
   "id": "6ee29bd0",
   "metadata": {},
   "outputs": [
    {
     "name": "stdout",
     "output_type": "stream",
     "text": [
      "['1,2,3']\n"
     ]
    }
   ],
   "source": [
    "Element = ['1,2,3']\n",
    "print(Element)"
   ]
  },
  {
   "cell_type": "code",
   "execution_count": 2,
   "id": "f3f4de20",
   "metadata": {},
   "outputs": [],
   "source": [
    "import logging\n",
    "\n",
    "logging.basicConfig(\n",
    "    level=logging.INFO,\n",
    "    filename='Filehandling.log',\n",
    "    filemode='w',\n",
    "    format='%(asctime)s - %(levelname)s - %(message)s'\n",
    ")\n"
   ]
  },
  {
   "cell_type": "code",
   "execution_count": 4,
   "id": "9df19c98",
   "metadata": {},
   "outputs": [],
   "source": [
    "logging.info('hello kaisa hai')\n",
    "logging.info('mast')"
   ]
  },
  {
   "cell_type": "code",
   "execution_count": 1,
   "id": "f03c5a25",
   "metadata": {},
   "outputs": [],
   "source": [
    "import pickle \n",
    "\n",
    "def save_model(model, path):\n",
    "    with open(path, 'wb') as f:\n",
    "        pickle.dump(model, f)\n",
    "        "
   ]
  }
 ],
 "metadata": {
  "kernelspec": {
   "display_name": "base",
   "language": "python",
   "name": "python3"
  },
  "language_info": {
   "codemirror_mode": {
    "name": "ipython",
    "version": 3
   },
   "file_extension": ".py",
   "mimetype": "text/x-python",
   "name": "python",
   "nbconvert_exporter": "python",
   "pygments_lexer": "ipython3",
   "version": "3.12.7"
  }
 },
 "nbformat": 4,
 "nbformat_minor": 5
}
