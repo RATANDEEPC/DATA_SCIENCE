{
 "cells": [
  {
   "cell_type": "code",
   "execution_count": 20,
   "id": "28cd3f93",
   "metadata": {},
   "outputs": [
    {
     "name": "stdout",
     "output_type": "stream",
     "text": [
      "the multiplication of two number as 10.0 and 2.0 is 20.0\n"
     ]
    }
   ],
   "source": [
    "num1 = float(input('Enter the first number:'))\n",
    "num2 = float(input('Enter the second number:'))\n",
    "\n",
    "num3 = num1 * num2\n",
    "\n",
    "print(f'the multiplication of two number as {num1} and {num2} is' ,num3)"
   ]
  },
  {
   "cell_type": "markdown",
   "id": "3cc8b167",
   "metadata": {},
   "source": [
    "## INTRODUCTION"
   ]
  },
  {
   "cell_type": "code",
   "execution_count": 2,
   "id": "a35807a9",
   "metadata": {},
   "outputs": [],
   "source": [
    "# Data type used in python programming\n",
    "\n",
    "''' \n",
    "1.int: Integer\n",
    "2.float: decimal values\n",
    "3.string: text information\n",
    "4.boolean: true or false\n",
    "'''\n",
    "# data type defination\n",
    "num = 100\n",
    "num1 = 100.32 # float Value\n",
    "str = 'hello world'\n",
    "boolean = True\n",
    "boolean1 = False\n",
    "# = : assignment operator\n"
   ]
  },
  {
   "cell_type": "code",
   "execution_count": 3,
   "id": "3ba4255d",
   "metadata": {},
   "outputs": [
    {
     "name": "stdout",
     "output_type": "stream",
     "text": [
      "100\n"
     ]
    }
   ],
   "source": [
    "print(num)"
   ]
  },
  {
   "cell_type": "code",
   "execution_count": 4,
   "id": "f349f0b5",
   "metadata": {},
   "outputs": [
    {
     "name": "stdout",
     "output_type": "stream",
     "text": [
      "num\n"
     ]
    }
   ],
   "source": [
    "print('num')"
   ]
  },
  {
   "cell_type": "code",
   "execution_count": 5,
   "id": "108d2d05",
   "metadata": {},
   "outputs": [
    {
     "data": {
      "text/plain": [
       "200.32"
      ]
     },
     "execution_count": 5,
     "metadata": {},
     "output_type": "execute_result"
    }
   ],
   "source": [
    "num + num1"
   ]
  },
  {
   "cell_type": "code",
   "execution_count": 12,
   "id": "8cc38d86",
   "metadata": {},
   "outputs": [
    {
     "name": "stdout",
     "output_type": "stream",
     "text": [
      "1234556789\n",
      "1234512345123451234512345\n"
     ]
    }
   ],
   "source": [
    "a = '12345'\n",
    "b= '56789'\n",
    "c = 5\n",
    "\n",
    "print(a+b)\n",
    "print(a*c)"
   ]
  },
  {
   "cell_type": "code",
   "execution_count": 13,
   "id": "1703891d",
   "metadata": {},
   "outputs": [
    {
     "name": "stdout",
     "output_type": "stream",
     "text": [
      "102\n"
     ]
    }
   ],
   "source": [
    "# input function input value hamesha string deta hai\n",
    "num1 = input('Enter the first number :')\n",
    "num2 = input('Enter the second number :')\n",
    "\n",
    "print(num1 + num2)"
   ]
  },
  {
   "cell_type": "code",
   "execution_count": null,
   "id": "9d4b9b70",
   "metadata": {},
   "outputs": [
    {
     "name": "stdout",
     "output_type": "stream",
     "text": [
      "30\n"
     ]
    }
   ],
   "source": [
    "# use typecasting : convert str to int \n",
    "num1 = int (input('Enter the first number :'))\n",
    "num2 = int (input('Enter the second number :'))\n",
    "\n",
    "print(num1 + num2)"
   ]
  },
  {
   "cell_type": "code",
   "execution_count": null,
   "id": "1c529d6c",
   "metadata": {},
   "outputs": [
    {
     "name": "stdout",
     "output_type": "stream",
     "text": [
      "13.645\n"
     ]
    }
   ],
   "source": [
    "num1 = float(input(\"Enter the first number: \"))\n",
    "num2 = float(input(\"Enter the second number: \"))\n",
    "\n",
    "print(num1 + num2)\n",
    "\n"
   ]
  },
  {
   "cell_type": "code",
   "execution_count": 17,
   "id": "9bd1c693",
   "metadata": {},
   "outputs": [
    {
     "name": "stdout",
     "output_type": "stream",
     "text": [
      "The Entered name of the person is RATANDEEP having age is 24.0\n"
     ]
    }
   ],
   "source": [
    "# f string method\n",
    "name = input('enter the name :')\n",
    "age = float(input('enter the age in year:'))\n",
    "\n",
    "print(f'The Entered name of the person is {name} having age is {age}')"
   ]
  }
 ],
 "metadata": {
  "kernelspec": {
   "display_name": "base",
   "language": "python",
   "name": "python3"
  },
  "language_info": {
   "codemirror_mode": {
    "name": "ipython",
    "version": 3
   },
   "file_extension": ".py",
   "mimetype": "text/x-python",
   "name": "python",
   "nbconvert_exporter": "python",
   "pygments_lexer": "ipython3",
   "version": "3.12.7"
  }
 },
 "nbformat": 4,
 "nbformat_minor": 5
}
