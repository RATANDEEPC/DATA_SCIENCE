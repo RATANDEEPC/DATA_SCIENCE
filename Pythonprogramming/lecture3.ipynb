{
 "cells": [
  {
   "cell_type": "markdown",
   "id": "a13435cc",
   "metadata": {},
   "source": [
    "\n",
    "\n",
    "---\n",
    "\n",
    "### 🔹 **Data Type** – What kind of data is it?\n",
    "\n",
    "A **data type** defines the **type of value** a variable holds. It tells Python how to **interpret** and **operate** on the data.\n",
    "\n",
    "**Examples:**\n",
    "\n",
    "* `int` → integers like `10`, `-3`\n",
    "* `float` → decimal numbers like `3.14`, `-2.0`\n",
    "* `str` → strings like `\"hello\"`, `'123'`\n",
    "* `bool` → `True` or `False`\n",
    "\n",
    "> Think of data types as **basic building blocks** – raw values you work with.\n",
    "\n",
    "---\n",
    "\n",
    "### 🔹 **Data Structure** – How is data organized?\n",
    "\n",
    "A **data structure** is a **collection or arrangement** of data values (which could be different types) used to **store, manage, and organize** data efficiently.\n",
    "\n",
    "**Examples:**\n",
    "\n",
    "* `list` → ordered, changeable collection: `[1, 2, \"apple\"]`\n",
    "* `tuple` → ordered, unchangeable collection: `(1, 2)`\n",
    "* `set` → unordered collection of unique values: `{1, 2, 3}`\n",
    "* `dict` → key-value pairs: `{\"name\": \"Raj\", \"age\": 24}`\n",
    "\n",
    "> Data structures use **data types inside them** to store multiple values, often of different types.\n",
    "\n",
    "---\n",
    "\n",
    "### ✅ **In simple terms:**\n",
    "\n",
    "* A **data type** = what kind of value it is (like an individual brick).\n",
    "* A **data structure** = how values are organized together (like a wall made of bricks).\n",
    "\n",
    "list is collection of different data type of python arranged in sequence manner"
   ]
  },
  {
   "cell_type": "code",
   "execution_count": 9,
   "id": "47698c72",
   "metadata": {},
   "outputs": [
    {
     "name": "stdout",
     "output_type": "stream",
     "text": [
      "<class 'list'>\n",
      "[1, 'hi world']\n"
     ]
    }
   ],
   "source": [
    "#List : Data structure of python programminng\n",
    "'''\n",
    "if any function defined inside a class then such function is called 'Method'\n",
    "'''\n",
    "lst = []  # blank list\n",
    "print(type(lst))\n",
    "lst.append(1)   \n",
    "lst.append('hi world') \n",
    "print(lst)\n"
   ]
  },
  {
   "cell_type": "code",
   "execution_count": 23,
   "id": "ff2c5135",
   "metadata": {},
   "outputs": [
    {
     "name": "stdout",
     "output_type": "stream",
     "text": [
      "[]\n"
     ]
    }
   ],
   "source": [
    "lst.clear()\n",
    "print(lst)"
   ]
  },
  {
   "cell_type": "code",
   "execution_count": 25,
   "id": "c18c319a",
   "metadata": {},
   "outputs": [
    {
     "name": "stdout",
     "output_type": "stream",
     "text": [
      "[20, 20, 30, 40, 30, 40, 100, 100]\n"
     ]
    }
   ],
   "source": [
    "lst.insert(1,20)\n",
    "lst.insert(2,30)\n",
    "lst.insert(3,40)\n",
    "lst.append(100)\n",
    "print(lst)"
   ]
  },
  {
   "cell_type": "code",
   "execution_count": 26,
   "id": "2874ad9e",
   "metadata": {},
   "outputs": [
    {
     "data": {
      "text/plain": [
       "380"
      ]
     },
     "execution_count": 26,
     "metadata": {},
     "output_type": "execute_result"
    }
   ],
   "source": [
    "import numpy as np\n",
    "a = np.array(lst)\n",
    "a.sum()"
   ]
  },
  {
   "cell_type": "code",
   "execution_count": 27,
   "id": "baeaa808",
   "metadata": {},
   "outputs": [
    {
     "data": {
      "text/plain": [
       "2"
      ]
     },
     "execution_count": 27,
     "metadata": {},
     "output_type": "execute_result"
    }
   ],
   "source": [
    "lst.count(20)"
   ]
  },
  {
   "cell_type": "code",
   "execution_count": 29,
   "id": "b3d436b9",
   "metadata": {},
   "outputs": [
    {
     "data": {
      "text/plain": [
       "0"
      ]
     },
     "execution_count": 29,
     "metadata": {},
     "output_type": "execute_result"
    }
   ],
   "source": [
    "lst.index(20)"
   ]
  },
  {
   "cell_type": "code",
   "execution_count": null,
   "id": "2eba5023",
   "metadata": {},
   "outputs": [
    {
     "data": {
      "text/plain": [
       "2"
      ]
     },
     "execution_count": 30,
     "metadata": {},
     "output_type": "execute_result"
    }
   ],
   "source": [
    "#search algorithm \n",
    "a = [10,10,20,20,30]\n",
    "a.index(20)\n"
   ]
  },
  {
   "cell_type": "code",
   "execution_count": 31,
   "id": "46c221c7",
   "metadata": {},
   "outputs": [
    {
     "name": "stdout",
     "output_type": "stream",
     "text": [
      "[10, 40, 50, 100, 643]\n"
     ]
    }
   ],
   "source": [
    "#sorting algorithm\n",
    "m = [100,10,40,50,643]\n",
    "m.sort()\n",
    "print(m)"
   ]
  },
  {
   "cell_type": "code",
   "execution_count": 33,
   "id": "1579a545",
   "metadata": {},
   "outputs": [
    {
     "name": "stdout",
     "output_type": "stream",
     "text": [
      "<class 'list'>\n"
     ]
    }
   ],
   "source": [
    "print(type(m))"
   ]
  },
  {
   "cell_type": "code",
   "execution_count": 40,
   "id": "78bfcce8",
   "metadata": {},
   "outputs": [
    {
     "name": "stdout",
     "output_type": "stream",
     "text": [
      "[10, 40, 50, 100, 643, 40, 30, 60, 40, 30, 60, 40, 30, 60, 40, 30, 60]\n"
     ]
    }
   ],
   "source": [
    "m.extend([40,30,60])\n",
    "print(m)"
   ]
  },
  {
   "cell_type": "code",
   "execution_count": null,
   "id": "54256b2d",
   "metadata": {},
   "outputs": [
    {
     "name": "stdout",
     "output_type": "stream",
     "text": [
      "[10, 40, 50, 100, 643]\n"
     ]
    }
   ],
   "source": [
    "#pop will remove numbers at last\n",
    "m.pop()\n",
    "print(m)"
   ]
  },
  {
   "cell_type": "code",
   "execution_count": null,
   "id": "40edc1c6",
   "metadata": {},
   "outputs": [
    {
     "name": "stdout",
     "output_type": "stream",
     "text": [
      "[10, 50, 100, 643]\n"
     ]
    }
   ],
   "source": [
    "#remove will remove particular number from value\n",
    "m.remove(40)\n",
    "print(m)\n"
   ]
  },
  {
   "cell_type": "code",
   "execution_count": 56,
   "id": "07b4b674",
   "metadata": {},
   "outputs": [
    {
     "data": {
      "text/plain": [
       "50"
      ]
     },
     "execution_count": 56,
     "metadata": {},
     "output_type": "execute_result"
    }
   ],
   "source": [
    "# concept of indexing and slicing\n",
    "\n",
    "array = [10,20,30,40,50,60]\n",
    "array[4]"
   ]
  },
  {
   "cell_type": "code",
   "execution_count": 58,
   "id": "f09225f8",
   "metadata": {},
   "outputs": [
    {
     "name": "stdout",
     "output_type": "stream",
     "text": [
      "200\n"
     ]
    }
   ],
   "source": [
    "lst = [10,20,30,[100,200,300]]\n",
    "print(lst[3][1])"
   ]
  },
  {
   "cell_type": "code",
   "execution_count": 63,
   "id": "d82aecce",
   "metadata": {},
   "outputs": [
    {
     "name": "stdout",
     "output_type": "stream",
     "text": [
      "8\n"
     ]
    }
   ],
   "source": [
    "lst = [1, 2, [3, [4, [5, 6, 7, [8], 9], 10], 11], 12]\n",
    "print(lst[2][1][1][3][0])\n"
   ]
  }
 ],
 "metadata": {
  "kernelspec": {
   "display_name": "base",
   "language": "python",
   "name": "python3"
  },
  "language_info": {
   "codemirror_mode": {
    "name": "ipython",
    "version": 3
   },
   "file_extension": ".py",
   "mimetype": "text/x-python",
   "name": "python",
   "nbconvert_exporter": "python",
   "pygments_lexer": "ipython3",
   "version": "3.12.7"
  }
 },
 "nbformat": 4,
 "nbformat_minor": 5
}
