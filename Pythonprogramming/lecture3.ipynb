{
 "cells": [
  {
   "cell_type": "code",
   "execution_count": 2,
   "id": "47698c72",
   "metadata": {},
   "outputs": [
    {
     "name": "stdout",
     "output_type": "stream",
     "text": [
      "<class 'list'>\n",
      "[1, 2]\n"
     ]
    }
   ],
   "source": [
    "#List : Data structure of python programminng\n",
    "\n",
    "lst = []  # blank list\n",
    "print(type(lst))\n",
    "lst.append(1)   \n",
    "lst.append(2) \n",
    "print(lst)\n"
   ]
  }
 ],
 "metadata": {
  "kernelspec": {
   "display_name": "base",
   "language": "python",
   "name": "python3"
  },
  "language_info": {
   "codemirror_mode": {
    "name": "ipython",
    "version": 3
   },
   "file_extension": ".py",
   "mimetype": "text/x-python",
   "name": "python",
   "nbconvert_exporter": "python",
   "pygments_lexer": "ipython3",
   "version": "3.12.7"
  }
 },
 "nbformat": 4,
 "nbformat_minor": 5
}
